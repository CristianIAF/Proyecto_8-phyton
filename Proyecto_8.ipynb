{
  "cells": [
    {
      "cell_type": "markdown",
      "metadata": {
        "id": "QWjrIwmfXLVu"
      },
      "source": [
        "#####8 - Vamos a comprender la distribución de edades de los pensionistas de una empresa de seguros. Escribe un programa que lea las edades de una cantidad no informada de clientes y muestre la distribución en los intervalos [0-25], [26-50], [51-75] y [76-100]. La entrada de datos se detendrá al ingresar un número negativo."
      ]
    },
    {
      "cell_type": "markdown",
      "metadata": {
        "id": "s96dtaqoYDId"
      },
      "source": [
        "* Inicializar los contadores para cada intervalo; se inicializan 4 variables para contar las edades en cada intervalo.\n",
        "* Clasificación de edades: Cada edad leída se clasificará en uno de los cuatro intervalos: [0-25], [26-50], [51-75] y [76-100]. Las edades mayores a 100 se ignorarán.\n",
        "* Conteo: Utilizaremos cuatro contadores para llevar la cuenta de las edades en cada intervalo.\n",
        "* Inicialización de Contadores: Se inicializan cuatro variables para contar las edades en cada intervalo."
      ]
    },
    {
      "cell_type": "code",
      "execution_count": null,
      "metadata": {
        "colab": {
          "background_save": true
        },
        "id": "mFbSBKOlgMi4"
      },
      "outputs": [],
      "source": [
        "contador_0_25 = 0\n",
        "contador_26_50 = 0\n",
        "contador_51_75 = 0\n",
        "contador_76_100 = 0"
      ]
    },
    {
      "cell_type": "markdown",
      "metadata": {
        "id": "4cku_trlg013"
      },
      "source": [
        "* Lectura de datos: Se utiliza un bucle \"while\" para leer las edades de forma continua hasta que se ingrese un número negativo.\n",
        "* Bucle de Lectura: Se utiliza un bucle \"while True\" para leer continuamente las entradas del usuario.\n",
        "* Verificar si la entrada es un número negativo para detener la lectura.\n",
        "* Validación de Entrada: Cada entrada se convierte a entero. Si no es un número válido, se ignora. Si el número es negativo, el bucle se detiene."
      ]
    },
    {
      "cell_type": "code",
      "execution_count": 6,
      "metadata": {
        "colab": {
          "base_uri": "https://localhost:8080/"
        },
        "id": "gJ5Xn0tchuMb",
        "outputId": "11d7c3dc-2e4a-410d-b2d5-d6e8da43be8c"
      },
      "outputs": [
        {
          "name": "stdout",
          "output_type": "stream",
          "text": [
            "34\n",
            "89\n",
            "65\n",
            "52\n",
            "-90\n"
          ]
        }
      ],
      "source": [
        "while True:\n",
        "    entrada = int(input())\n",
        "    if entrada < 0:\n",
        "      break"
      ]
    },
    {
      "cell_type": "markdown",
      "metadata": {
        "id": "zJ-f3UGfkKMc"
      },
      "source": [
        "* Si el número es negativo, el bucle se detiene."
      ]
    },
    {
      "cell_type": "markdown",
      "metadata": {
        "id": "YwvMkH4Ei6A5"
      },
      "source": [
        "* Ignorar entradas no numéricas."
      ]
    },
    {
      "cell_type": "code",
      "execution_count": 11,
      "metadata": {
        "id": "BAI75zXxig7T",
        "colab": {
          "base_uri": "https://localhost:8080/"
        },
        "outputId": "69fedfef-51ed-4804-84b8-5c7b2baddb74"
      },
      "outputs": [
        {
          "name": "stdout",
          "output_type": "stream",
          "text": [
            "87\n",
            "hola\n",
            "-9\n"
          ]
        }
      ],
      "source": [
        "while True:\n",
        "  entrada = input()\n",
        "  try:\n",
        "    edad = int(entrada)\n",
        "    if edad <0:\n",
        "      break\n",
        "  except ValueError:\n",
        "        continue"
      ]
    },
    {
      "cell_type": "code",
      "source": [
        "entrada"
      ],
      "metadata": {
        "colab": {
          "base_uri": "https://localhost:8080/",
          "height": 36
        },
        "id": "Fu6GO2p5WkJj",
        "outputId": "a8304959-1b9a-4ae9-e445-b6cb9eeb6a97"
      },
      "execution_count": 15,
      "outputs": [
        {
          "output_type": "execute_result",
          "data": {
            "text/plain": [
              "'-9'"
            ],
            "application/vnd.google.colaboratory.intrinsic+json": {
              "type": "string"
            }
          },
          "metadata": {},
          "execution_count": 15
        }
      ]
    },
    {
      "cell_type": "markdown",
      "metadata": {
        "id": "pBmrCMCzkWcC"
      },
      "source": [
        "* Clasificar la edad en el intervalo correspondiente.\n",
        "* Clasificación por Intervalos: Según el valor de la edad, se incrementa el contador correspondiente."
      ]
    },
    {
      "cell_type": "code",
      "source": [
        "edad=99"
      ],
      "metadata": {
        "id": "Ej9JoVPzWqoa"
      },
      "execution_count": 26,
      "outputs": []
    },
    {
      "cell_type": "code",
      "execution_count": 27,
      "metadata": {
        "id": "BWAb5Anlm0hh"
      },
      "outputs": [],
      "source": [
        "\n",
        "    if edad <= 25:\n",
        "        contador_0_25 += 1\n",
        "\n",
        "    elif edad <= 50:\n",
        "        contador_26_50 += 1\n",
        "\n",
        "    elif edad <= 75:\n",
        "        contador_51_75 += 1\n",
        "\n",
        "    elif edad <= 100:\n",
        "        contador_76_100 += 1"
      ]
    },
    {
      "cell_type": "markdown",
      "metadata": {
        "id": "t9FoX34t2Z2F"
      },
      "source": [
        "* Salida: Al finalizar la entrada de datos, mostraremos la cantidad de personas en cada intervalo.\n",
        "* Resultados: Finalmente, se imprime la cantidad de personas en cada intervalo.\n",
        "* Mostrar los resultados"
      ]
    },
    {
      "cell_type": "code",
      "execution_count": 28,
      "metadata": {
        "id": "jOgmV_YR2nLf",
        "colab": {
          "base_uri": "https://localhost:8080/"
        },
        "outputId": "b8738641-5eda-45e8-996b-e7557bf3a2e7"
      },
      "outputs": [
        {
          "output_type": "stream",
          "name": "stdout",
          "text": [
            "[0-25]: 1\n",
            "[26-50]: 0\n",
            "[51-75] 3\n",
            "[76-100] 1\n"
          ]
        }
      ],
      "source": [
        "print(\"[0-25]:\", contador_0_25)\n",
        "print(\"[26-50]:\", contador_26_50)\n",
        "print(\"[51-75]\", contador_51_75)\n",
        "print(\"[76-100]\", contador_76_100)"
      ]
    }
  ],
  "metadata": {
    "colab": {
      "provenance": []
    },
    "kernelspec": {
      "display_name": "Python 3",
      "name": "python3"
    },
    "language_info": {
      "name": "python"
    }
  },
  "nbformat": 4,
  "nbformat_minor": 0
}